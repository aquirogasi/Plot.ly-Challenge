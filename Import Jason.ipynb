{
 "cells": [
  {
   "cell_type": "code",
   "execution_count": 1,
   "metadata": {},
   "outputs": [],
   "source": [
    "import json\n",
    "import pandas as pd  \n",
    "from pandas.io.json import json_normalize"
   ]
  },
  {
   "cell_type": "code",
   "execution_count": 2,
   "metadata": {},
   "outputs": [],
   "source": [
    "jsonFile = open('static/samples.json', 'r')\n",
    "values = json.load(jsonFile)\n",
    "jsonFile.close()"
   ]
  },
  {
   "cell_type": "code",
   "execution_count": 6,
   "metadata": {},
   "outputs": [
    {
     "data": {
      "text/html": [
       "<div>\n",
       "<style scoped>\n",
       "    .dataframe tbody tr th:only-of-type {\n",
       "        vertical-align: middle;\n",
       "    }\n",
       "\n",
       "    .dataframe tbody tr th {\n",
       "        vertical-align: top;\n",
       "    }\n",
       "\n",
       "    .dataframe thead th {\n",
       "        text-align: right;\n",
       "    }\n",
       "</style>\n",
       "<table border=\"1\" class=\"dataframe\">\n",
       "  <thead>\n",
       "    <tr style=\"text-align: right;\">\n",
       "      <th></th>\n",
       "      <th>names</th>\n",
       "      <th>metadata</th>\n",
       "      <th>samples</th>\n",
       "    </tr>\n",
       "  </thead>\n",
       "  <tbody>\n",
       "    <tr>\n",
       "      <th>0</th>\n",
       "      <td>[940, 941, 943, 944, 945, 946, 947, 948, 949, ...</td>\n",
       "      <td>[{'id': 940, 'ethnicity': 'Caucasian', 'gender...</td>\n",
       "      <td>[{'id': '940', 'otu_ids': [1167, 2859, 482, 22...</td>\n",
       "    </tr>\n",
       "  </tbody>\n",
       "</table>\n",
       "</div>"
      ],
      "text/plain": [
       "                                               names  \\\n",
       "0  [940, 941, 943, 944, 945, 946, 947, 948, 949, ...   \n",
       "\n",
       "                                            metadata  \\\n",
       "0  [{'id': 940, 'ethnicity': 'Caucasian', 'gender...   \n",
       "\n",
       "                                             samples  \n",
       "0  [{'id': '940', 'otu_ids': [1167, 2859, 482, 22...  "
      ]
     },
     "execution_count": 6,
     "metadata": {},
     "output_type": "execute_result"
    }
   ],
   "source": [
    "mynames = json_normalize(values)\n",
    "mynames.head()"
   ]
  },
  {
   "cell_type": "code",
   "execution_count": 5,
   "metadata": {},
   "outputs": [
    {
     "data": {
      "text/html": [
       "<div>\n",
       "<style scoped>\n",
       "    .dataframe tbody tr th:only-of-type {\n",
       "        vertical-align: middle;\n",
       "    }\n",
       "\n",
       "    .dataframe tbody tr th {\n",
       "        vertical-align: top;\n",
       "    }\n",
       "\n",
       "    .dataframe thead th {\n",
       "        text-align: right;\n",
       "    }\n",
       "</style>\n",
       "<table border=\"1\" class=\"dataframe\">\n",
       "  <thead>\n",
       "    <tr style=\"text-align: right;\">\n",
       "      <th></th>\n",
       "      <th>id</th>\n",
       "      <th>ethnicity</th>\n",
       "      <th>gender</th>\n",
       "      <th>age</th>\n",
       "      <th>location</th>\n",
       "      <th>bbtype</th>\n",
       "      <th>wfreq</th>\n",
       "    </tr>\n",
       "  </thead>\n",
       "  <tbody>\n",
       "    <tr>\n",
       "      <th>0</th>\n",
       "      <td>940</td>\n",
       "      <td>Caucasian</td>\n",
       "      <td>F</td>\n",
       "      <td>24.0</td>\n",
       "      <td>Beaufort/NC</td>\n",
       "      <td>I</td>\n",
       "      <td>2.0</td>\n",
       "    </tr>\n",
       "    <tr>\n",
       "      <th>1</th>\n",
       "      <td>941</td>\n",
       "      <td>Caucasian/Midleastern</td>\n",
       "      <td>F</td>\n",
       "      <td>34.0</td>\n",
       "      <td>Chicago/IL</td>\n",
       "      <td>I</td>\n",
       "      <td>1.0</td>\n",
       "    </tr>\n",
       "    <tr>\n",
       "      <th>2</th>\n",
       "      <td>943</td>\n",
       "      <td>Caucasian</td>\n",
       "      <td>F</td>\n",
       "      <td>49.0</td>\n",
       "      <td>Omaha/NE</td>\n",
       "      <td>I</td>\n",
       "      <td>1.0</td>\n",
       "    </tr>\n",
       "  </tbody>\n",
       "</table>\n",
       "</div>"
      ],
      "text/plain": [
       "    id              ethnicity gender   age     location bbtype  wfreq\n",
       "0  940              Caucasian      F  24.0  Beaufort/NC      I    2.0\n",
       "1  941  Caucasian/Midleastern      F  34.0   Chicago/IL      I    1.0\n",
       "2  943              Caucasian      F  49.0     Omaha/NE      I    1.0"
      ]
     },
     "execution_count": 5,
     "metadata": {},
     "output_type": "execute_result"
    }
   ],
   "source": [
    "mymetadata = json_normalize(values['metadata']) \n",
    "mymetadata.head(3) "
   ]
  },
  {
   "cell_type": "code",
   "execution_count": 7,
   "metadata": {},
   "outputs": [],
   "source": [
    "export_metadata_csv = mymetadata.to_csv (r'C:\\Users\\aquir\\Documents\\Plotly-challenge\\data\\metadata.csv', index = None, header=True)"
   ]
  },
  {
   "cell_type": "code",
   "execution_count": 8,
   "metadata": {},
   "outputs": [
    {
     "data": {
      "text/html": [
       "<div>\n",
       "<style scoped>\n",
       "    .dataframe tbody tr th:only-of-type {\n",
       "        vertical-align: middle;\n",
       "    }\n",
       "\n",
       "    .dataframe tbody tr th {\n",
       "        vertical-align: top;\n",
       "    }\n",
       "\n",
       "    .dataframe thead th {\n",
       "        text-align: right;\n",
       "    }\n",
       "</style>\n",
       "<table border=\"1\" class=\"dataframe\">\n",
       "  <thead>\n",
       "    <tr style=\"text-align: right;\">\n",
       "      <th></th>\n",
       "      <th>id</th>\n",
       "      <th>otu_ids</th>\n",
       "      <th>sample_values</th>\n",
       "      <th>otu_labels</th>\n",
       "    </tr>\n",
       "  </thead>\n",
       "  <tbody>\n",
       "    <tr>\n",
       "      <th>0</th>\n",
       "      <td>940</td>\n",
       "      <td>[1167, 2859, 482, 2264, 41, 1189, 352, 189, 23...</td>\n",
       "      <td>[163, 126, 113, 78, 71, 51, 50, 47, 40, 40, 37...</td>\n",
       "      <td>[Bacteria;Bacteroidetes;Bacteroidia;Bacteroida...</td>\n",
       "    </tr>\n",
       "    <tr>\n",
       "      <th>1</th>\n",
       "      <td>941</td>\n",
       "      <td>[2722, 944, 2419, 2539, 3450, 1795, 2389, 1314...</td>\n",
       "      <td>[194, 178, 162, 92, 84, 40, 37, 28, 27, 24, 21...</td>\n",
       "      <td>[Bacteria;Firmicutes;Clostridia;Clostridiales;...</td>\n",
       "    </tr>\n",
       "    <tr>\n",
       "      <th>2</th>\n",
       "      <td>943</td>\n",
       "      <td>[1795]</td>\n",
       "      <td>[2]</td>\n",
       "      <td>[Bacteria;Firmicutes;Bacilli;Bacillales;Staphy...</td>\n",
       "    </tr>\n",
       "    <tr>\n",
       "      <th>3</th>\n",
       "      <td>944</td>\n",
       "      <td>[922, 3555, 943, 1013, 1795, 944, 3368, 923, 1...</td>\n",
       "      <td>[278, 33, 19, 18, 11, 8, 7, 5, 5, 5, 4, 4, 4, ...</td>\n",
       "      <td>[Bacteria;Actinobacteria;Actinobacteria;Actino...</td>\n",
       "    </tr>\n",
       "    <tr>\n",
       "      <th>4</th>\n",
       "      <td>945</td>\n",
       "      <td>[944, 1795, 922, 2419, 2859, 943, 2722, 1167, ...</td>\n",
       "      <td>[274, 141, 129, 110, 40, 37, 35, 32, 26, 20, 1...</td>\n",
       "      <td>[Bacteria;Actinobacteria;Actinobacteria;Actino...</td>\n",
       "    </tr>\n",
       "  </tbody>\n",
       "</table>\n",
       "</div>"
      ],
      "text/plain": [
       "    id                                            otu_ids  \\\n",
       "0  940  [1167, 2859, 482, 2264, 41, 1189, 352, 189, 23...   \n",
       "1  941  [2722, 944, 2419, 2539, 3450, 1795, 2389, 1314...   \n",
       "2  943                                             [1795]   \n",
       "3  944  [922, 3555, 943, 1013, 1795, 944, 3368, 923, 1...   \n",
       "4  945  [944, 1795, 922, 2419, 2859, 943, 2722, 1167, ...   \n",
       "\n",
       "                                       sample_values  \\\n",
       "0  [163, 126, 113, 78, 71, 51, 50, 47, 40, 40, 37...   \n",
       "1  [194, 178, 162, 92, 84, 40, 37, 28, 27, 24, 21...   \n",
       "2                                                [2]   \n",
       "3  [278, 33, 19, 18, 11, 8, 7, 5, 5, 5, 4, 4, 4, ...   \n",
       "4  [274, 141, 129, 110, 40, 37, 35, 32, 26, 20, 1...   \n",
       "\n",
       "                                          otu_labels  \n",
       "0  [Bacteria;Bacteroidetes;Bacteroidia;Bacteroida...  \n",
       "1  [Bacteria;Firmicutes;Clostridia;Clostridiales;...  \n",
       "2  [Bacteria;Firmicutes;Bacilli;Bacillales;Staphy...  \n",
       "3  [Bacteria;Actinobacteria;Actinobacteria;Actino...  \n",
       "4  [Bacteria;Actinobacteria;Actinobacteria;Actino...  "
      ]
     },
     "execution_count": 8,
     "metadata": {},
     "output_type": "execute_result"
    }
   ],
   "source": [
    "mysamples = json_normalize(values['samples']) \n",
    "mysamples.head() "
   ]
  },
  {
   "cell_type": "code",
   "execution_count": 8,
   "metadata": {},
   "outputs": [
    {
     "ename": "NameError",
     "evalue": "name 'mysamples' is not defined",
     "output_type": "error",
     "traceback": [
      "\u001b[1;31m---------------------------------------------------------------------------\u001b[0m",
      "\u001b[1;31mNameError\u001b[0m                                 Traceback (most recent call last)",
      "\u001b[1;32m<ipython-input-8-b96d4309b235>\u001b[0m in \u001b[0;36m<module>\u001b[1;34m\u001b[0m\n\u001b[1;32m----> 1\u001b[1;33m \u001b[0mexport_samples_csv\u001b[0m \u001b[1;33m=\u001b[0m \u001b[0mmysamples\u001b[0m\u001b[1;33m.\u001b[0m\u001b[0mto_csv\u001b[0m \u001b[1;33m(\u001b[0m\u001b[1;34mr'C:\\Users\\aquir\\Documents\\Plotly-challenge\\data\\samples.csv'\u001b[0m\u001b[1;33m,\u001b[0m \u001b[0mindex\u001b[0m \u001b[1;33m=\u001b[0m \u001b[1;32mNone\u001b[0m\u001b[1;33m,\u001b[0m \u001b[0mheader\u001b[0m\u001b[1;33m=\u001b[0m\u001b[1;32mTrue\u001b[0m\u001b[1;33m)\u001b[0m\u001b[1;33m\u001b[0m\u001b[1;33m\u001b[0m\u001b[0m\n\u001b[0m",
      "\u001b[1;31mNameError\u001b[0m: name 'mysamples' is not defined"
     ]
    }
   ],
   "source": [
    "export_samples_csv = mysamples.to_csv (r'C:\\Users\\aquir\\Documents\\Plotly-challenge\\data\\samples.csv', index = None, header=True)"
   ]
  },
  {
   "cell_type": "code",
   "execution_count": 9,
   "metadata": {},
   "outputs": [],
   "source": [
    "# Python SQL toolkit and Object Relational Mapper\n",
    "import sqlalchemy\n",
    "from sqlalchemy.ext.automap import automap_base\n",
    "from sqlalchemy.orm import Session\n",
    "from sqlalchemy import create_engine, func"
   ]
  },
  {
   "cell_type": "code",
   "execution_count": 10,
   "metadata": {},
   "outputs": [],
   "source": [
    "engine = create_engine(\"sqlite:///bellybutton.db\")"
   ]
  },
  {
   "cell_type": "code",
   "execution_count": 11,
   "metadata": {},
   "outputs": [],
   "source": [
    "# reflect an existing database into a new model\n",
    "Base = automap_base()\n",
    "# reflect the tables\n",
    "Base.prepare(engine, reflect=True)"
   ]
  },
  {
   "cell_type": "code",
   "execution_count": 12,
   "metadata": {},
   "outputs": [
    {
     "data": {
      "text/plain": [
       "['metadata', 'samples']"
      ]
     },
     "execution_count": 12,
     "metadata": {},
     "output_type": "execute_result"
    }
   ],
   "source": [
    "# We can view all of the classes that automap found\n",
    "Base.classes.keys()"
   ]
  },
  {
   "cell_type": "code",
   "execution_count": 13,
   "metadata": {},
   "outputs": [],
   "source": [
    "# Save references to each table\n",
    "Samples_Metadata = Base.classes.metadata\n",
    "Samples = Base.classes.samples"
   ]
  },
  {
   "cell_type": "code",
   "execution_count": 14,
   "metadata": {},
   "outputs": [],
   "source": [
    "# Create our session (link) from Python to the DB\n",
    "session = Session(engine)"
   ]
  },
  {
   "cell_type": "code",
   "execution_count": 15,
   "metadata": {},
   "outputs": [
    {
     "data": {
      "text/plain": [
       "{'_sa_instance_state': <sqlalchemy.orm.state.InstanceState at 0x1e752e2a978>,\n",
       " 'otu_labels': \"['Bacteria;Bacteroidetes;Bacteroidia;Bacteroidales;Porphyromonadaceae;Porphyromonas', 'Bacteria;Firmicutes;Clostridia;Clostridiales;IncertaeSedisXI;Peptoniphilus', 'Bacteria', 'Bacteria;Firmicutes;Clostridia;Clostridiales;IncertaeSedisXI', 'Bacteria', 'Bacteria;Bacteroidetes;Bacteroidia;Bacteroidales;Porphyromonadaceae;Porphyromonas', 'Bacteria', 'Bacteria', 'Bacteria;Firmicutes;Clostridia;Clostridiales;IncertaeSedisXI;Anaerococcus', 'Bacteria;Firmicutes;Clostridia;Clostridiales', 'Bacteria;Proteobacteria;Epsilonproteobacteria;Campylobacterales;Campylobacteraceae;Campylobacter', 'Bacteria;Actinobacteria;Actinobacteria;Actinomycetales;Actinomycetaceae;Varibaculum', 'Bacteria;Firmicutes;Clostridia', 'Bacteria;Firmicutes;Clostridia;Clostridiales;IncertaeSedisXI', 'Bacteria;Firmicutes;Clostridia', 'Bacteria;Firmicutes;Clostridia;Clostridiales', 'Bacteria;Firmicutes;Clostridia;Clostridiales;IncertaeSedisXI', 'Bacteria;Actinobacteria;Actinobacteria;Actinomycetales;Corynebacteriaceae;Corynebacterium', 'Bacteria;Firmicutes;Clostridia;Clostridiales;IncertaeSedisXI', 'Bacteria;Firmicutes;Clostridia;Clostridiales;IncertaeSedisXI', 'Bacteria;Firmicutes;Clostridia;Clostridiales', 'Bacteria;Firmicutes;Clostridia;Clostridiales;IncertaeSedisXI;Anaerococcus', 'Bacteria;Firmicutes;Clostridia;Clostridiales;IncertaeSedisXI;Peptoniphilus', 'Bacteria', 'Bacteria;Firmicutes;Clostridia;Clostridiales;IncertaeSedisXI;Peptoniphilus', 'Bacteria;Firmicutes;Clostridia;Clostridiales;IncertaeSedisXI', 'Bacteria;Firmicutes;Clostridia;Clostridiales', 'Bacteria;Firmicutes;Clostridia;Clostridiales;IncertaeSedisXI;Anaerococcus', 'Bacteria;Actinobacteria;Actinobacteria;Actinomycetales', 'Bacteria;Firmicutes;Clostridia;Clostridiales;Veillonellaceae', 'Bacteria;Firmicutes;Bacilli;Bacillales;Staphylococcaceae;Staphylococcus', 'Bacteria;Firmicutes;Clostridia;Clostridiales;IncertaeSedisXI;Finegoldia', 'Bacteria', 'Bacteria;Firmicutes;Clostridia;Clostridiales', 'Bacteria;Firmicutes;Clostridia;Clostridiales;Peptococcaceae;Peptococcus', 'Bacteria;Bacteroidetes;Bacteroidia;Bacteroidales;Porphyromonadaceae;Porphyromonas', 'Bacteria;Firmicutes;Clostridia;Clostridiales', 'Bacteria;Bacteroidetes;Bacteroidia;Bacteroidales;Porphyromonadaceae;Porphyromonas', 'Bacteria;Firmicutes;Clostridia;Clostridiales', 'Bacteria;Bacteroidetes;Bacteroidia;Bacteroidales;Prevotellaceae', 'Bacteria;Firmicutes;Clostridia;Clostridiales;IncertaeSedisXI;Gallicola', 'Bacteria;Firmicutes;Clostridia;Clostridiales;IncertaeSedisXI;Gallicola', 'Bacteria;Bacteroidetes;Bacteroidia;Bacteroidales;Prevotellaceae;Prevotella', 'Bacteria;Firmicutes;Clostridia', 'Bacteria;Firmicutes;Clostridia;Clostridiales;IncertaeSedisXI', 'Bacteria;Firmicutes;Clostridia;Clostridiales;IncertaeSedisXI;Anaerococcus', 'Bacteria;Firmicutes;Clostridia;Clostridiales;Ruminococcaceae', 'Bacteria;Actinobacteria;Actinobacteria;Actinomycetales;Corynebacteriaceae', 'Bacteria;Actinobacteria;Actinobacteria;Actinomycetales;Actinomycetaceae', 'Bacteria;Firmicutes;Clostridia;Clostridiales;IncertaeSedisXI;Anaerococcus', 'Bacteria;Firmicutes;Clostridia;Clostridiales;IncertaeSedisXI;Anaerococcus', 'Bacteria;Firmicutes;Clostridia;Clostridiales;IncertaeSedisXI;Anaerococcus', 'Bacteria;Firmicutes;Clostridia;Clostridiales;IncertaeSedisXI', 'Bacteria', 'Bacteria;Firmicutes;Clostridia;Clostridiales;IncertaeSedisXI;Anaerococcus', 'Bacteria;Firmicutes;Clostridia;Clostridiales;IncertaeSedisXI;Anaerococcus', 'Bacteria;Firmicutes;Clostridia;Clostridiales;IncertaeSedisXI;Anaerococcus', 'Bacteria;Firmicutes;Clostridia;Clostridiales;IncertaeSedisXI;Anaerococcus', 'Bacteria;Actinobacteria;Actinobacteria;Actinomycetales', 'Bacteria', 'Bacteria;Firmicutes', 'Bacteria', 'Bacteria', 'Bacteria;Bacteroidetes;Bacteroidia;Bacteroidales;Porphyromonadaceae;Porphyromonas', 'Bacteria', 'Bacteria;Bacteroidetes;Bacteroidia;Bacteroidales;Porphyromonadaceae;Porphyromonas', 'Bacteria;Firmicutes', 'Bacteria;Firmicutes', 'Bacteria;Firmicutes', 'Bacteria', 'Bacteria;Firmicutes;Clostridia;Clostridiales;IncertaeSedisXI', 'Bacteria;Firmicutes;Clostridia', 'Bacteria;Firmicutes;Clostridia', 'Bacteria', 'Bacteria;Firmicutes;Clostridia;Clostridiales', 'Bacteria', 'Bacteria;Firmicutes;Clostridia;Clostridiales', 'Bacteria;Firmicutes;Clostridia;Clostridiales;IncertaeSedisXI', 'Bacteria', 'Bacteria']\",\n",
       " 'otu_ids': '[1167, 2859, 482, 2264, 41, 1189, 352, 189, 2318, 1977, 3450, 874, 1959, 2191, 1950, 2077, 2275, 944, 2184, 2244, 2024, 2419, 2811, 165, 2782, 2247, 2011, 2396, 830, 2964, 1795, 2722, 307, 2178, 2908, 1193, 2167, 1208, 2039, 1274, 2739, 2737, 1314, 1962, 2186, 2335, 2936, 907, 833, 2483, 2475, 2491, 2291, 159, 2571, 2350, 2342, 2546, 725, 170, 1505, 513, 259, 1169, 258, 1232, 1497, 1498, 1503, 412, 2235, 1960, 1968, 121, 2065, 340, 2110, 2188, 357, 342]',\n",
       " 'id': 940,\n",
       " 'sample_values': '[163, 126, 113, 78, 71, 51, 50, 47, 40, 40, 37, 36, 30, 28, 25, 23, 22, 19, 19, 14, 13, 13, 13, 12, 12, 11, 11, 11, 10, 10, 10, 8, 7, 7, 7, 6, 5, 5, 5, 4, 4, 4, 3, 3, 3, 3, 3, 3, 3, 2, 2, 2, 2, 2, 2, 2, 2, 2, 2, 2, 2, 2, 2, 2, 2, 2, 2, 2, 2, 2, 2, 2, 2, 2, 2, 2, 2, 2, 2, 2]'}"
      ]
     },
     "execution_count": 15,
     "metadata": {},
     "output_type": "execute_result"
    }
   ],
   "source": [
    "# Display the first row's columns and data from samples table in dictionary format\n",
    "first_row = session.query(Samples).first()\n",
    "#automap the first row to a dict using this built-in class attribute __dict__\n",
    "first_row.__dict__"
   ]
  },
  {
   "cell_type": "code",
   "execution_count": 17,
   "metadata": {},
   "outputs": [
    {
     "name": "stdout",
     "output_type": "stream",
     "text": [
      "[1167, 2859, 482, 2264, 41, 1189, 352, 189, 2318, 1977, 3450, 874, 1959, 2191, 1950, 2077, 2275, 944, 2184, 2244, 2024, 2419, 2811, 165, 2782, 2247, 2011, 2396, 830, 2964, 1795, 2722, 307, 2178, 2908, 1193, 2167, 1208, 2039, 1274, 2739, 2737, 1314, 1962, 2186, 2335, 2936, 907, 833, 2483, 2475, 2491, 2291, 159, 2571, 2350, 2342, 2546, 725, 170, 1505, 513, 259, 1169, 258, 1232, 1497, 1498, 1503, 412, 2235, 1960, 1968, 121, 2065, 340, 2110, 2188, 357, 342]\n"
     ]
    }
   ],
   "source": [
    "# Design a query to retrieve all the wfreq\n",
    "\n",
    "# wfreq Values \n",
    "Sample_values = session.query(Samples.otu_ids)[0:10]\n",
    "print(Sample_values[0][0])\n",
    "\n"
   ]
  },
  {
   "cell_type": "code",
   "execution_count": 22,
   "metadata": {},
   "outputs": [
    {
     "data": {
      "text/plain": [
       "{'_sa_instance_state': <sqlalchemy.orm.state.InstanceState at 0x1e752e86dd8>,\n",
       " 'wfreq': '2.0',\n",
       " 'location': 'Beaufort/NC',\n",
       " 'gender': 'F',\n",
       " 'ethnicity': 'Caucasian',\n",
       " 'bbtype': 'I',\n",
       " 'age': 24.0,\n",
       " 'id': 940}"
      ]
     },
     "execution_count": 22,
     "metadata": {},
     "output_type": "execute_result"
    }
   ],
   "source": [
    "first_row = session.query(Samples_Metadata).first()\n",
    "#automap the first row to a dict using this built-in class attribute __dict__\n",
    "first_row.__dict__"
   ]
  },
  {
   "cell_type": "code",
   "execution_count": 25,
   "metadata": {},
   "outputs": [
    {
     "name": "stdout",
     "output_type": "stream",
     "text": [
      "[('2.0',), ('1.0',), ('1.0',), ('1.0',), ('1.0',), ('3.0',), ('6.0',), (None,), ('3.0',), ('5.0',), ('7.0',), ('2.0',), ('7.0',), ('7.0',), ('7.0',), ('5.0',), ('5.0',), ('7.0',), ('4.0',), ('1.0',), ('3.5',), ('7.0',), ('0.0',), ('1.0',), ('6.0',), ('7.0',), ('0.0',), ('1.0',), ('7.0',), ('1.0',), (None,), ('3.0',), (None,), ('0.0',), (None,), ('0.0',), ('6.0',), ('2.0',), ('0.0',), ('1.0',), (None,), ('7.0',), ('5.0',), ('5.0',), ('7.0',), ('7.0',), ('7.0',), ('0.0',), ('0.0',), ('3.0',), ('0.0',), ('0.0',), ('7.0',), ('7.0',), ('9.0',), (None,), ('3.0',), (None,), ('7.0',), ('7.0',), (None,), ('7.0',), (None,), ('7.0',), (None,), ('5.0',), ('0.0',), (None,), ('1.0',), (None,), ('7.0',), ('4.0',), ('5.0',), ('3.0',), ('7.0',), ('5.0',), ('5.0',), ('7.0',), (None,), (None,), ('4.0',), ('3.0',), ('0.0',), ('0.0',), ('0.0',), ('0.0',), ('3.0',), ('0.0',), ('3.0',), ('0.0',), ('0.0',), ('0.0',), ('0.0',), ('0.0',), ('7.0',), ('0.0',), ('0.0',), ('0.0',), ('0.0',), ('0.0',), ('1.0',), ('0.0',), ('7.0',), ('0.0',), ('7.0',), ('1.0',), ('0.0',), ('0.0',), ('0.0',), ('0.0',), ('0.0',), ('4.0',), ('7.0',), ('7.0',), ('1.0',), ('2.0',), ('0.0',), ('0.0',), ('0.0',), ('7.0',), ('7.0',), ('0.0',), ('7.0',), ('0.0',), ('0.0',), (None,), ('3.0',), ('1.0',), ('7.0',), ('3.0',), ('0.0',), ('0.0',), ('3.0',), ('7.0',), ('0.0',), ('3.0',), ('0.0',), ('0.0',), ('0.0',), ('0.0',), ('2.0',), ('1.0',), ('2.0',), ('0.0',), ('0.0',), ('5.0',), ('0.0',), ('0.0',), ('7.0',), ('0.0',), ('0.0',), ('2.0',), ('2.0',)]\n"
     ]
    }
   ],
   "source": [
    "# Sample Values \n",
    "wfreq_values = session.query(Samples_Metadata.wfreq).all()\n",
    "print(wfreq_values)"
   ]
  },
  {
   "cell_type": "code",
   "execution_count": null,
   "metadata": {},
   "outputs": [],
   "source": []
  }
 ],
 "metadata": {
  "kernelspec": {
   "display_name": "Python 3",
   "language": "python",
   "name": "python3"
  },
  "language_info": {
   "codemirror_mode": {
    "name": "ipython",
    "version": 3
   },
   "file_extension": ".py",
   "mimetype": "text/x-python",
   "name": "python",
   "nbconvert_exporter": "python",
   "pygments_lexer": "ipython3",
   "version": "3.7.3"
  }
 },
 "nbformat": 4,
 "nbformat_minor": 2
}
